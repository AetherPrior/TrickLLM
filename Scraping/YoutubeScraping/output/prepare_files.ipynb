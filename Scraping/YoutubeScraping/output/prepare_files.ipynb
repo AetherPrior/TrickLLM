{
 "cells": [
  {
   "cell_type": "code",
   "execution_count": 1,
   "id": "7b400a48",
   "metadata": {},
   "outputs": [],
   "source": [
    "import json\n",
    "import pandas as pd"
   ]
  },
  {
   "cell_type": "code",
   "execution_count": 2,
   "id": "0b3fe07a",
   "metadata": {},
   "outputs": [],
   "source": [
    "list_names = [\"Attack Prompts\", \"code injection\", \"dan\", \"Jailbreak\"]"
   ]
  },
  {
   "cell_type": "code",
   "execution_count": 3,
   "id": "4ecb5899",
   "metadata": {},
   "outputs": [],
   "source": [
    "dic = {}"
   ]
  },
  {
   "cell_type": "code",
   "execution_count": 4,
   "id": "2c66f889",
   "metadata": {},
   "outputs": [
    {
     "name": "stdout",
     "output_type": "stream",
     "text": [
      "1194\n",
      "749\n",
      "1012\n",
      "2\n"
     ]
    }
   ],
   "source": [
    "# Attack Prompts\n",
    "\n",
    "for i in range(1, 4):\n",
    "    df_attack = pd.read_csv(\"./Attack Prompts/comments\" + str(i) +\".csv\")\n",
    "    print(len(df_attack))\n",
    "    for j in range(len(df_attack)):\n",
    "        dic['selftext'] = df_attack.iloc[j].text\n",
    "        dic['search_term'] = \"attack prompts\"\n",
    "        with open(\"youtube.jsonl\", 'a') as fp:\n",
    "            json.dump(dic, fp)\n",
    "            fp.write(\"\\n\")\n",
    "\n",
    "print(len(dic))"
   ]
  },
  {
   "cell_type": "code",
   "execution_count": 5,
   "id": "eb9f2de0",
   "metadata": {},
   "outputs": [
    {
     "name": "stdout",
     "output_type": "stream",
     "text": [
      "1919\n",
      "199\n",
      "425\n",
      "1801\n",
      "608\n",
      "2\n"
     ]
    }
   ],
   "source": [
    "# Code Injection\n",
    "\n",
    "for i in range(0, 5):\n",
    "    df_inject = pd.read_csv(\"./code injection/comments\" + str(i) +\".csv\")\n",
    "    print(len(df_inject))\n",
    "    for j in range(len(df_inject)):\n",
    "        dic['selftext'] = df_inject.iloc[j].text\n",
    "        dic['search_term'] = \"code injection\"\n",
    "        with open(\"youtube.jsonl\", 'a') as fp:\n",
    "            json.dump(dic, fp)\n",
    "            fp.write(\"\\n\")\n",
    "\n",
    "print(len(dic))"
   ]
  },
  {
   "cell_type": "code",
   "execution_count": 6,
   "id": "647a5e02",
   "metadata": {},
   "outputs": [
    {
     "name": "stdout",
     "output_type": "stream",
     "text": [
      "3845\n",
      "5867\n",
      "576\n",
      "2\n"
     ]
    }
   ],
   "source": [
    "# dan\n",
    "\n",
    "for i in range(0, 3):\n",
    "    df_dan = pd.read_csv(\"./dan/comments\" + str(i) +\".csv\")\n",
    "    print(len(df_dan))\n",
    "    for j in range(len(df_dan)):\n",
    "        dic['selftext'] = df_dan.iloc[j].text\n",
    "        dic['search_term'] = \"dan\"\n",
    "        with open(\"youtube.jsonl\", 'a') as fp:\n",
    "            json.dump(dic, fp)\n",
    "            fp.write(\"\\n\")\n",
    "\n",
    "print(len(dic))"
   ]
  },
  {
   "cell_type": "code",
   "execution_count": 7,
   "id": "cfd70c05",
   "metadata": {},
   "outputs": [
    {
     "name": "stdout",
     "output_type": "stream",
     "text": [
      "2645\n",
      "2045\n",
      "185\n",
      "2190\n",
      "3218\n",
      "202\n",
      "677\n",
      "2\n"
     ]
    }
   ],
   "source": [
    "# jail break\n",
    "\n",
    "for i in range(0, 7):\n",
    "    df_break = pd.read_csv(\"./Jailbreak/comments\" + str(i) +\".csv\")\n",
    "    print(len(df_break))\n",
    "    for j in range(len(df_break)):\n",
    "        dic['selftext'] = df_break.iloc[j].text\n",
    "        dic['search_term'] = \"jailbreak\"\n",
    "        with open(\"youtube.jsonl\", 'a') as fp:\n",
    "            json.dump(dic, fp)\n",
    "            fp.write(\"\\n\")\n",
    "\n",
    "print(len(dic))"
   ]
  },
  {
   "cell_type": "code",
   "execution_count": null,
   "id": "d07c7a8f",
   "metadata": {},
   "outputs": [],
   "source": []
  },
  {
   "cell_type": "code",
   "execution_count": null,
   "id": "af29fef2",
   "metadata": {},
   "outputs": [],
   "source": []
  },
  {
   "cell_type": "code",
   "execution_count": null,
   "id": "1c489088",
   "metadata": {},
   "outputs": [],
   "source": []
  }
 ],
 "metadata": {
  "kernelspec": {
   "display_name": "Python [conda env:BLOOM]",
   "language": "python",
   "name": "conda-env-BLOOM-py"
  },
  "language_info": {
   "codemirror_mode": {
    "name": "ipython",
    "version": 3
   },
   "file_extension": ".py",
   "mimetype": "text/x-python",
   "name": "python",
   "nbconvert_exporter": "python",
   "pygments_lexer": "ipython3",
   "version": "3.10.9"
  }
 },
 "nbformat": 4,
 "nbformat_minor": 5
}
